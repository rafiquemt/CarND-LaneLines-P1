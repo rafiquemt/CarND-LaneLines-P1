{
 "cells": [
  {
   "cell_type": "markdown",
   "metadata": {},
   "source": [
    "# **Finding Lane Lines on the Road** \n",
    "***\n",
    "In this project, you will use the tools you learned about in the lesson to identify lane lines on the road.  You can develop your pipeline on a series of individual images, and later apply the result to a video stream (really just a series of images). Check out the video clip \"raw-lines-example.mp4\" (also contained in this repository) to see what the output should look like after using the helper functions below. \n",
    "\n",
    "Once you have a result that looks roughly like \"raw-lines-example.mp4\", you'll need to get creative and try to average and/or extrapolate the line segments you've detected to map out the full extent of the lane lines.  You can see an example of the result you're going for in the video \"P1_example.mp4\".  Ultimately, you would like to draw just one line for the left side of the lane, and one for the right.\n",
    "\n",
    "---\n",
    "Let's have a look at our first image called 'test_images/solidWhiteRight.jpg'.  Run the 2 cells below (hit Shift-Enter or the \"play\" button above) to display the image.\n",
    "\n",
    "**Note** If, at any point, you encounter frozen display windows or other confounding issues, you can always start again with a clean slate by going to the \"Kernel\" menu above and selecting \"Restart & Clear Output\".\n",
    "\n",
    "---"
   ]
  },
  {
   "cell_type": "markdown",
   "metadata": {},
   "source": [
    "**The tools you have are color selection, region of interest selection, grayscaling, Gaussian smoothing, Canny Edge Detection and Hough Tranform line detection.  You  are also free to explore and try other techniques that were not presented in the lesson.  Your goal is piece together a pipeline to detect the line segments in the image, then average/extrapolate them and draw them onto the image for display (as below).  Once you have a working pipeline, try it out on the video stream below.**\n",
    "\n",
    "---\n",
    "\n",
    "<figure>\n",
    " <img src=\"line-segments-example.jpg\" width=\"380\" alt=\"Combined Image\" />\n",
    " <figcaption>\n",
    " <p></p> \n",
    " <p style=\"text-align: center;\"> Your output should look something like this (above) after detecting line segments using the helper functions below </p> \n",
    " </figcaption>\n",
    "</figure>\n",
    " <p></p> \n",
    "<figure>\n",
    " <img src=\"laneLines_thirdPass.jpg\" width=\"380\" alt=\"Combined Image\" />\n",
    " <figcaption>\n",
    " <p></p> \n",
    " <p style=\"text-align: center;\"> Your goal is to connect/average/extrapolate line segments to get output like this</p> \n",
    " </figcaption>\n",
    "</figure>"
   ]
  },
  {
   "cell_type": "code",
   "execution_count": null,
   "metadata": {
    "collapsed": false
   },
   "outputs": [],
   "source": [
    "#importing some useful packages\n",
    "import matplotlib.pyplot as plt\n",
    "import matplotlib.image as mpimg\n",
    "import numpy as np\n",
    "import cv2\n",
    "%matplotlib inline"
   ]
  },
  {
   "cell_type": "code",
   "execution_count": null,
   "metadata": {
    "collapsed": false
   },
   "outputs": [],
   "source": [
    "#reading in an image\n",
    "image = mpimg.imread('test_images/solidWhiteRight.jpg')\n",
    "#printing out some stats and plotting\n",
    "print('This image is:', type(image), 'with dimesions:', image.shape)\n",
    "plt.imshow(image)  # if you wanted to show a single color channel image called 'gray', for example, call as plt.imshow(gray, cmap='gray')"
   ]
  },
  {
   "cell_type": "markdown",
   "metadata": {},
   "source": [
    "**Some OpenCV functions (beyond those introduced in the lesson) that might be useful for this project are:**\n",
    "\n",
    "`cv2.inRange()` for color selection  \n",
    "`cv2.fillPoly()` for regions selection  \n",
    "`cv2.line()` to draw lines on an image given endpoints  \n",
    "`cv2.addWeighted()` to coadd / overlay two images\n",
    "`cv2.cvtColor()` to grayscale or change color\n",
    "`cv2.imwrite()` to output images to file  \n",
    "`cv2.bitwise_and()` to apply a mask to an image\n",
    "\n",
    "**Check out the OpenCV documentation to learn about these and discover even more awesome functionality!**"
   ]
  },
  {
   "cell_type": "markdown",
   "metadata": {},
   "source": [
    "Below are some helper functions to help get you started. They should look familiar from the lesson!"
   ]
  },
  {
   "cell_type": "code",
   "execution_count": null,
   "metadata": {
    "collapsed": true
   },
   "outputs": [],
   "source": [
    "import math\n",
    "\n",
    "def grayscale(img):\n",
    "    \"\"\"Applies the Grayscale transform\n",
    "    This will return an image with only one color channel\n",
    "    but NOTE: to see the returned image as grayscale\n",
    "    (assuming your grayscaled image is called 'gray')\n",
    "    you should call plt.imshow(gray, cmap='gray')\"\"\"\n",
    "    # using HSV to better work in different light conditions when converting to grayscale\n",
    "    # grab the V channel\n",
    "    grayimg = cv2.cvtColor(img, cv2.COLOR_RGB2HSV)[:,:,2]\n",
    "    return grayimg\n",
    "    \n",
    "def canny(img, low_threshold, high_threshold):\n",
    "    \"\"\"Applies the Canny transform\"\"\"\n",
    "    return cv2.Canny(img, low_threshold, high_threshold)\n",
    "\n",
    "def gaussian_blur(img, kernel_size):\n",
    "    \"\"\"Applies a Gaussian Noise kernel\"\"\"\n",
    "    return cv2.GaussianBlur(img, (kernel_size, kernel_size), 0)\n",
    "\n",
    "def region_of_interest(img, vertices):\n",
    "    \"\"\"\n",
    "    Applies an image mask.\n",
    "    \n",
    "    Only keeps the region of the image defined by the polygon\n",
    "    formed from `vertices`. The rest of the image is set to black.\n",
    "    \"\"\"\n",
    "    #defining a blank mask to start with\n",
    "    mask = np.zeros_like(img)   \n",
    "    \n",
    "    #defining a 3 channel or 1 channel color to fill the mask with depending on the input image\n",
    "    if len(img.shape) > 2:\n",
    "        channel_count = img.shape[2]  # i.e. 3 or 4 depending on your image\n",
    "        ignore_mask_color = (255,) * channel_count\n",
    "    else:\n",
    "        ignore_mask_color = 255\n",
    "        \n",
    "    #filling pixels inside the polygon defined by \"vertices\" with the fill color    \n",
    "    cv2.fillPoly(mask, vertices, ignore_mask_color)\n",
    "    \n",
    "    #returning the image only where mask pixels are nonzero\n",
    "    masked_image = cv2.bitwise_and(img, mask)\n",
    "    return masked_image\n",
    "\n",
    "\n",
    "def draw_lines(img, lines, color=[0, 255, 0], thickness=3):\n",
    "    \"\"\"\n",
    "    NOTE: this is the function you might want to use as a starting point once you want to \n",
    "    average/extrapolate the line segments you detect to map out the full\n",
    "    extent of the lane (going from the result shown in raw-lines-example.mp4\n",
    "    to that shown in P1_example.mp4).  \n",
    "    \n",
    "    Think about things like separating line segments by their \n",
    "    slope ((y2-y1)/(x2-x1)) to decide which segments are part of the left\n",
    "    line vs. the right line.  Then, you can average the position of each of \n",
    "    the lines and extrapolate to the top and bottom of the lane.\n",
    "    \n",
    "    This function draws `lines` with `color` and `thickness`.    \n",
    "    Lines are drawn on the image inplace (mutates the image).\n",
    "    If you want to make the lines semi-transparent, think about combining\n",
    "    this function with the weighted_img() function below\n",
    "    \"\"\"\n",
    "    # filter down to two lines. +/-. Filter by slope first\n",
    "    pos_min = 0.50\n",
    "    pos_max = 2\n",
    "    neg_min = -2\n",
    "    neg_max = -0.5\n",
    "    slope_left = []\n",
    "    slope_right = []\n",
    "    b_left = []\n",
    "    b_right = []\n",
    "    height = math.floor(img.shape[0])\n",
    "    \n",
    "    for line in lines:\n",
    "        for x1, y1, x2, y2 in line:\n",
    "            slope = (y2 - y1) / (x2 - x1)\n",
    "            b = y2 - slope * x2\n",
    "            right_lane = slope >= pos_min and slope <= pos_max\n",
    "            left_lane = slope >= neg_min and slope <= neg_max\n",
    "            if left_lane:\n",
    "                slope_left.append(slope)\n",
    "                b_left.append(b)\n",
    "            if right_lane:\n",
    "                slope_right.append(slope)\n",
    "                b_right.append(b)\n",
    "    \n",
    "    if len(slope_left) > 0:\n",
    "        left_m = np.average(slope_left)\n",
    "        left_b = np.average(b_left)\n",
    "        left_y1 = height\n",
    "        left_x1 = math.floor((left_y1 - left_b) / left_m)\n",
    "        left_y2 = math.floor(0.6 * height)\n",
    "        left_x2 = math.floor((left_y2 - left_b) / left_m)\n",
    "        cv2.line(img, (left_x1, left_y1), (left_x2, left_y2), color, thickness)\n",
    "        \n",
    "    if len(slope_right) > 0:\n",
    "        right_m = np.average(slope_right)\n",
    "        right_b = np.average(b_right)\n",
    "        right_y1 = height\n",
    "        right_x1 = math.floor((right_y1 - right_b) / right_m)\n",
    "        right_y2 = math.floor(0.6 * height)\n",
    "        right_x2 = math.floor((right_y2 - right_b) / right_m)\n",
    "        cv2.line(img, (right_x1, right_y1), (right_x2, right_y2), color, thickness)\n",
    "\n",
    "def hough_lines(img, rho, theta, threshold, min_line_len, max_line_gap):\n",
    "    \"\"\"\n",
    "    `img` should be the output of a Canny transform.\n",
    "        \n",
    "    Returns an image with hough lines drawn.\n",
    "    \"\"\"\n",
    "    lines = cv2.HoughLinesP(img, rho, theta, threshold, np.array([]), minLineLength=min_line_len, maxLineGap=max_line_gap)\n",
    "    line_img = np.zeros((img.shape[0], img.shape[1], 3), dtype=np.uint8)\n",
    "    draw_lines(line_img, lines)\n",
    "    return line_img\n",
    "\n",
    "# Python 3 has support for cool math symbols.\n",
    "\n",
    "def weighted_img(img, initial_img, α=0.8, β=1., λ=0.):\n",
    "    \"\"\"\n",
    "    `img` is the output of the hough_lines(), An image with lines drawn on it.\n",
    "    Should be a blank image (all black) with lines drawn on it.\n",
    "    \n",
    "    `initial_img` should be the image before any processing.\n",
    "    \n",
    "    The result image is computed as follows:\n",
    "    \n",
    "    initial_img * α + img * β + λ\n",
    "    NOTE: initial_img and img must be the same shape!\n",
    "    \"\"\"\n",
    "    return cv2.addWeighted(initial_img, α, img, β, λ)"
   ]
  },
  {
   "cell_type": "markdown",
   "metadata": {},
   "source": [
    "## Test on Images\n",
    "\n",
    "Now you should build your pipeline to work on the images in the directory \"test_images\"  \n",
    "**You should make sure your pipeline works well on these images before you try the videos.**"
   ]
  },
  {
   "cell_type": "code",
   "execution_count": null,
   "metadata": {
    "collapsed": false
   },
   "outputs": [],
   "source": [
    "import os\n",
    "file_list = os.listdir(\"test_images/\")"
   ]
  },
  {
   "cell_type": "markdown",
   "metadata": {},
   "source": [
    "run your solution on all test_images and make copies into the test_images directory)."
   ]
  },
  {
   "cell_type": "code",
   "execution_count": null,
   "metadata": {
    "collapsed": false
   },
   "outputs": [],
   "source": [
    "# TODO: Build your pipeline that will draw lane lines on the test_images\n",
    "# then save them to the test_images directory.\n",
    "def test_process(image):\n",
    "\n",
    "    # grayscale\n",
    "    gray = grayscale(image)\n",
    "    \n",
    "    # blur\n",
    "    kernel_size = 5\n",
    "    blur = gaussian_blur(gray, kernel_size)\n",
    "    \n",
    "    # canny\n",
    "    low_threshold = 40\n",
    "    high_threshold = 120\n",
    "    canny_image = canny(blur, low_threshold, high_threshold)\n",
    "    \n",
    "    # filter region interest\n",
    "    imshape = canny_image.shape\n",
    "    vertices = np.array([[(0,imshape[0]),(0.45*imshape[1], 0.60*imshape[0]), (0.45*imshape[1] + 75, 0.60*imshape[0]), (imshape[1],imshape[0])]], dtype=np.int32)\n",
    "    canny_roi = region_of_interest(canny_image, vertices)\n",
    "    \n",
    "    # hough transform\n",
    "    rho = 2 # distance resolution in pixels of the Hough grid\n",
    "    theta = 1*np.pi/180 # angular resolution in radians of the Hough grid\n",
    "    threshold = 8     # minimum number of votes (intersections in Hough grid cell)\n",
    "    min_line_length = 20 #minimum number of pixels making up a line\n",
    "    max_line_gap = 4    # maximum gap in pixels between connectable line segments\n",
    "    lines_hough = hough_lines(canny_roi, rho, theta, threshold, min_line_length, max_line_gap)\n",
    "    \n",
    "    # blend to original image\n",
    "    blended = weighted_img(lines_hough, image)\n",
    "    \n",
    "    return blended\n",
    "\n",
    "for testImg in file_list:\n",
    "    print(testImg)\n",
    "    image = mpimg.imread(\"test_images/\" + testImg)\n",
    "    plt.imshow(test_process(image))\n",
    "    plt.show()\n",
    "    print(\"-------\")\n"
   ]
  },
  {
   "cell_type": "markdown",
   "metadata": {},
   "source": [
    "## Test on Videos\n",
    "\n",
    "You know what's cooler than drawing lanes over images? Drawing lanes over video!\n",
    "\n",
    "We can test our solution on two provided videos:\n",
    "\n",
    "`solidWhiteRight.mp4`\n",
    "\n",
    "`solidYellowLeft.mp4`"
   ]
  },
  {
   "cell_type": "code",
   "execution_count": null,
   "metadata": {
    "collapsed": true
   },
   "outputs": [],
   "source": [
    "# Import everything needed to edit/save/watch video clips\n",
    "from moviepy.editor import VideoFileClip\n",
    "from IPython.display import HTML"
   ]
  },
  {
   "cell_type": "code",
   "execution_count": null,
   "metadata": {
    "collapsed": true
   },
   "outputs": [],
   "source": [
    "def process_image(image):\n",
    "    # NOTE: The output you return should be a color image (3 channel) for processing video below\n",
    "    # TODO: put your pipeline here,\n",
    "    # you should return the final output (image with lines are drawn on lanes)\n",
    "\n",
    "    # grayscale\n",
    "    gray = grayscale(image)\n",
    "    \n",
    "    # blur\n",
    "    kernel_size = 5\n",
    "    blur = gaussian_blur(gray, kernel_size)\n",
    "    \n",
    "    # canny\n",
    "    low_threshold = 50\n",
    "    high_threshold = 150\n",
    "    canny_image = canny(blur, low_threshold, high_threshold)\n",
    "    \n",
    "    # filter region interest\n",
    "    imshape = canny_image.shape\n",
    "    vertices = np.array([[(0,imshape[0]),(0.45*imshape[1], 0.60*imshape[0]), (0.45*imshape[1] + 75, 0.60*imshape[0]), (imshape[1],imshape[0])]], dtype=np.int32)\n",
    "    canny_roi = region_of_interest(canny_image, vertices)\n",
    "    \n",
    "    # hough transform\n",
    "    rho = 2 # distance resolution in pixels of the Hough grid\n",
    "    theta = 1*np.pi/180 # angular resolution in radians of the Hough grid\n",
    "    threshold = 8     # minimum number of votes (intersections in Hough grid cell)\n",
    "    min_line_length = 20 #minimum number of pixels making up a line\n",
    "    max_line_gap = 4    # maximum gap in pixels between connectable line segments\n",
    "    lines_hough = hough_lines(canny_roi, rho, theta, threshold, min_line_length, max_line_gap)\n",
    "    \n",
    "    # blend to original image\n",
    "    blended = weighted_img(lines_hough, image)\n",
    "    \n",
    "    return blended"
   ]
  },
  {
   "cell_type": "markdown",
   "metadata": {},
   "source": [
    "Let's try the one with the solid white lane on the right first ..."
   ]
  },
  {
   "cell_type": "code",
   "execution_count": null,
   "metadata": {
    "collapsed": false
   },
   "outputs": [],
   "source": [
    "white_output = 'white.mp4'\n",
    "clip1 = VideoFileClip(\"solidWhiteRight.mp4\")\n",
    "white_clip = clip1.fl_image(process_image) #NOTE: this function expects color images!!\n",
    "%time white_clip.write_videofile(white_output, audio=False)"
   ]
  },
  {
   "cell_type": "markdown",
   "metadata": {},
   "source": [
    "Play the video inline, or if you prefer find the video in your filesystem (should be in the same directory) and play it in your video player of choice."
   ]
  },
  {
   "cell_type": "code",
   "execution_count": null,
   "metadata": {
    "collapsed": false
   },
   "outputs": [],
   "source": [
    "HTML(\"\"\"\n",
    "<video width=\"960\" height=\"540\" controls>\n",
    "  <source src=\"{0}\">\n",
    "</video>\n",
    "\"\"\".format(white_output))"
   ]
  },
  {
   "cell_type": "markdown",
   "metadata": {},
   "source": [
    "**At this point, if you were successful you probably have the Hough line segments drawn onto the road, but what about identifying the full extent of the lane and marking it clearly as in the example video (P1_example.mp4)?  Think about defining a line to run the full length of the visible lane based on the line segments you identified with the Hough Transform.  Modify your draw_lines function accordingly and try re-running your pipeline.**"
   ]
  },
  {
   "cell_type": "markdown",
   "metadata": {},
   "source": [
    "Now for the one with the solid yellow lane on the left. This one's more tricky!"
   ]
  },
  {
   "cell_type": "code",
   "execution_count": null,
   "metadata": {
    "collapsed": false
   },
   "outputs": [],
   "source": [
    "yellow_output = 'yellow.mp4'\n",
    "clip2 = VideoFileClip('solidYellowLeft.mp4')\n",
    "yellow_clip = clip2.fl_image(process_image)\n",
    "%time yellow_clip.write_videofile(yellow_output, audio=False)"
   ]
  },
  {
   "cell_type": "code",
   "execution_count": null,
   "metadata": {
    "collapsed": false
   },
   "outputs": [],
   "source": [
    "HTML(\"\"\"\n",
    "<video width=\"960\" height=\"540\" controls>\n",
    "  <source src=\"{0}\">\n",
    "</video>\n",
    "\"\"\".format(yellow_output))"
   ]
  },
  {
   "cell_type": "markdown",
   "metadata": {},
   "source": [
    "## Reflections\n",
    "\n",
    "Congratulations on finding the lane lines!  As the final step in this project, we would like you to share your thoughts on your lane finding pipeline... specifically, how could you imagine making your algorithm better / more robust?  Where will your current algorithm be likely to fail?\n",
    "\n",
    "### How to make it better\n",
    "It was reasonably easy to get started with this project. The already filled out stubs made it easier to focus on tuning and the high level pipeline. \n",
    "\n",
    "The tuning of parameters could be done in a better way. maybe a gui to help tweak the parameters and get immediate feedback on the various stages of the pipeline would help give more intuition on the impact of parameters. Additionally a broader data set of initial images with different road / lightning conditions would help to tune better\n",
    "\n",
    "The region mask could be more restricted to minimize noise from debris or patches on the road between the lines\n",
    "\n",
    "The initial approach to convert rgb to grayscale resulted in certain colors just blending into the road and made it harder to find lines for the challenge. Switched to something like HSV to average the colors and relied on the V value as the grayscale image. \n",
    "\n",
    "Smoothing of the lines\n",
    "The lines tend to jump around some times. Also in certain frames for the challenge, I was unable to find lines. This could be resolved by keeping averaging the lines found from previous few frames. This would give a more stable output and prevent the lines from jumping around or completely disappearing at times.\n",
    "\n",
    "Need to be able to deal with tighter curves in the road. The lanes can no longer be easily approximated as lines.\n",
    "\n",
    "Need more real world data and trials to judge how well this lane finding algorithm performs\n",
    "\n",
    "### When can it fail\n",
    "This can fail under the following scenarios \n",
    "* other lines and signs written on the road between the lane. can cause false lines to be found\n",
    "* may not really work well when changing lanes. \n",
    "* structures or debris on the road can cause lines to be mixed up\n",
    "* If the roads have a sharp curve then this algorithm can fail. Probably works well for gradual curves on highways\n",
    "* Don't know what happens at night time in lower light conditions\n",
    "* We're assuming that the camera is on a stable mount, but what happens when the camera shifts from its mount"
   ]
  },
  {
   "cell_type": "markdown",
   "metadata": {},
   "source": [
    "## Submission\n",
    "\n",
    "If you're satisfied with your video outputs it's time to submit!  Submit this ipython notebook for review.\n"
   ]
  },
  {
   "cell_type": "markdown",
   "metadata": {
    "collapsed": true
   },
   "source": [
    "## Optional Challenge\n",
    "\n",
    "I completed the optional challenge. It seems to work reasonably well. When crossing the bridge the lines jump a little bit. It did require changing the grayscale algorithm to use HSV instead of simple RGB2GRAY"
   ]
  },
  {
   "cell_type": "code",
   "execution_count": null,
   "metadata": {
    "collapsed": false
   },
   "outputs": [],
   "source": [
    "challenge_output = 'extra.mp4'\n",
    "clip2 = VideoFileClip('challenge.mp4')\n",
    "challenge_clip = clip2.fl_image(process_image)\n",
    "%time challenge_clip.write_videofile(challenge_output, audio=False)"
   ]
  },
  {
   "cell_type": "code",
   "execution_count": null,
   "metadata": {
    "collapsed": false
   },
   "outputs": [],
   "source": [
    "HTML(\"\"\"\n",
    "<video width=\"960\" height=\"540\" controls>\n",
    "  <source src=\"{0}\">\n",
    "</video>\n",
    "\"\"\".format(challenge_output))"
   ]
  },
  {
   "cell_type": "code",
   "execution_count": null,
   "metadata": {
    "collapsed": true
   },
   "outputs": [],
   "source": []
  }
 ],
 "metadata": {
  "anaconda-cloud": {},
  "kernelspec": {
   "display_name": "Python [conda root]",
   "language": "python",
   "name": "conda-root-py"
  },
  "language_info": {
   "codemirror_mode": {
    "name": "ipython",
    "version": 3
   },
   "file_extension": ".py",
   "mimetype": "text/x-python",
   "name": "python",
   "nbconvert_exporter": "python",
   "pygments_lexer": "ipython3",
   "version": "3.5.2"
  }
 },
 "nbformat": 4,
 "nbformat_minor": 0
}
